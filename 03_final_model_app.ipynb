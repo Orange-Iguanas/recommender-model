{
 "cells": [
  {
   "cell_type": "markdown",
   "metadata": {},
   "source": [
    "# Final Model for App"
   ]
  },
  {
   "cell_type": "code",
   "execution_count": 54,
   "metadata": {},
   "outputs": [],
   "source": [
    "# function to process data and output recommendations\n",
    "# user input is a list of two strings: category, interests + blurb\n",
    "\n",
    "def get_recommendation(user_input):\n",
    "    # imports\n",
    "    import numpy as np\n",
    "    import pandas as pd \n",
    "    from sklearn.feature_extraction.text import TfidfVectorizer\n",
    "    from sklearn.metrics.pairwise import linear_kernel\n",
    "    \n",
    "    # get data\n",
    "    df = pd.read_pickle('podcast_data.pkl')\n",
    "    \n",
    "    # get category to filter data\n",
    "    cat_input = user_input[0]\n",
    "    \n",
    "    # filter data by category, create new df, reset index - adjusted\n",
    "    idx = []\n",
    "    for i in range(df.shape[0]):\n",
    "        if cat_input in df['cat_list'][i]:\n",
    "            idx.append(i)\n",
    "            \n",
    "    df1 = df.iloc[idx]\n",
    "    df1.reset_index(drop=True, inplace=True)\n",
    "    \n",
    "    # get input string from user\n",
    "    user_text = user_input[1]\n",
    "    \n",
    "    # add user input to df\n",
    "    df2 = pd.DataFrame(columns=['all_text'])\n",
    "    df2['all_text'] = [user_text]\n",
    "\n",
    "    df1 = df1.append(df2, ignore_index=True)\n",
    "    \n",
    "    # instantiate TfidfVectorizer\n",
    "    stop_words = list(TfidfVectorizer(stop_words='english').get_stop_words()) + ['Podcast','podcast','Podcasts','podcasts',\n",
    "                                                                                'Live','live','Radio','radio','Show','show',\n",
    "                                                                                'interview','Interviews']\n",
    "    tf = TfidfVectorizer(analyzer = 'word', ngram_range = (2, 3), stop_words = stop_words)\n",
    "    \n",
    "    # fit and transform on df\n",
    "    tfdf = tf.fit_transform(df1['all_text'])\n",
    "    \n",
    "    # use linear_kernel to create array of similarities\n",
    "    similarity = linear_kernel(tfdf,tfdf)\n",
    "    \n",
    "    # https://www.kaggle.com/switkowski/building-a-podcast-recommendation-engine - adjusted\n",
    "    x = df1.index[-1]\n",
    "    similar_idx = similarity[x].argsort(axis = 0)[-21:-1]\n",
    "    \n",
    "    # create df of recommendations\n",
    "    similarity_score = []\n",
    "    podcast = []\n",
    "    description = []\n",
    "    \n",
    "    for i in similar_idx:\n",
    "        similarity_score.append(similarity[x][i])\n",
    "        podcast.append(df1['title'][i])\n",
    "        description.append(df1['description'][i])\n",
    "\n",
    "    recommendations = pd.DataFrame(\n",
    "    {'similarity_score': similarity_score,\n",
    "     'podcast': podcast,\n",
    "     'description': description})\n",
    "    \n",
    "    # convert df to json\n",
    "    reco_json = recommendations.to_json(orient = 'records')\n",
    "    \n",
    "    return reco_json"
   ]
  },
  {
   "cell_type": "code",
   "execution_count": null,
   "metadata": {},
   "outputs": [],
   "source": []
  }
 ],
 "metadata": {
  "kernelspec": {
   "display_name": "Python 3",
   "language": "python",
   "name": "python3"
  },
  "language_info": {
   "codemirror_mode": {
    "name": "ipython",
    "version": 3
   },
   "file_extension": ".py",
   "mimetype": "text/x-python",
   "name": "python",
   "nbconvert_exporter": "python",
   "pygments_lexer": "ipython3",
   "version": "3.8.5"
  }
 },
 "nbformat": 4,
 "nbformat_minor": 4
}
